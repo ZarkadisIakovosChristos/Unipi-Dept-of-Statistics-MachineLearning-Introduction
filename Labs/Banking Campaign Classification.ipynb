{
 "cells": [
  {
   "cell_type": "markdown",
   "metadata": {},
   "source": [
    "# Import Libraries"
   ]
  },
  {
   "cell_type": "code",
   "execution_count": 76,
   "metadata": {},
   "outputs": [],
   "source": [
    "import pandas as pd #pip install pandas\n",
    "import matplotlib.pyplot as plt #pip install matplotlib\n",
    "\n",
    "from sklearn.preprocessing import LabelEncoder, RobustScaler #pip install scikit-learn\n",
    "from sklearn.model_selection import train_test_split\n",
    "\n",
    "from imblearn.over_sampling import SMOTENC #pip install imblearn\n",
    "\n",
    "from sklearn.neural_network import MLPClassifier\n",
    "from sklearn.metrics import confusion_matrix, ConfusionMatrixDisplay, classification_report"
   ]
  },
  {
   "cell_type": "markdown",
   "metadata": {},
   "source": [
    "# Import Data"
   ]
  },
  {
   "cell_type": "code",
   "execution_count": 14,
   "metadata": {},
   "outputs": [
    {
     "data": {
      "text/plain": [
       "(45211, 17)"
      ]
     },
     "execution_count": 14,
     "metadata": {},
     "output_type": "execute_result"
    }
   ],
   "source": [
    "#Read a table file\n",
    "df = pd.read_table(\"C:/Users/iakov/Desktop/James/Uni/ΠΑΠΕΙ/Τ.ΠΛ/6οΕξάμηνο/ΑναλυτικήΔεδομένων/Project/bank_full_text_data.txt\", names = [\"age\", \"job\", \"marital\", \"education\",\n",
    "                   \"default\", \"balance\", \"housing\", \"loan\", \"contact\", \"day\", \"month\", \"duration\", \"campaign\", \"pdays\", \"previous\", \"poutcome\", \"y\"], skiprows = 1)\n",
    "#Check dimensions of the data (number of records x number of features)\n",
    "df.shape"
   ]
  },
  {
   "cell_type": "code",
   "execution_count": 15,
   "metadata": {},
   "outputs": [
    {
     "data": {
      "text/html": [
       "<div>\n",
       "<style scoped>\n",
       "    .dataframe tbody tr th:only-of-type {\n",
       "        vertical-align: middle;\n",
       "    }\n",
       "\n",
       "    .dataframe tbody tr th {\n",
       "        vertical-align: top;\n",
       "    }\n",
       "\n",
       "    .dataframe thead th {\n",
       "        text-align: right;\n",
       "    }\n",
       "</style>\n",
       "<table border=\"1\" class=\"dataframe\">\n",
       "  <thead>\n",
       "    <tr style=\"text-align: right;\">\n",
       "      <th></th>\n",
       "      <th>age</th>\n",
       "      <th>job</th>\n",
       "      <th>marital</th>\n",
       "      <th>education</th>\n",
       "      <th>default</th>\n",
       "      <th>balance</th>\n",
       "      <th>housing</th>\n",
       "      <th>loan</th>\n",
       "      <th>contact</th>\n",
       "      <th>day</th>\n",
       "      <th>month</th>\n",
       "      <th>duration</th>\n",
       "      <th>campaign</th>\n",
       "      <th>pdays</th>\n",
       "      <th>previous</th>\n",
       "      <th>poutcome</th>\n",
       "      <th>y</th>\n",
       "    </tr>\n",
       "  </thead>\n",
       "  <tbody>\n",
       "    <tr>\n",
       "      <th>0</th>\n",
       "      <td>58</td>\n",
       "      <td>management</td>\n",
       "      <td>married</td>\n",
       "      <td>tertiary</td>\n",
       "      <td>no</td>\n",
       "      <td>2143</td>\n",
       "      <td>yes</td>\n",
       "      <td>no</td>\n",
       "      <td>unknown</td>\n",
       "      <td>5</td>\n",
       "      <td>may</td>\n",
       "      <td>261</td>\n",
       "      <td>1</td>\n",
       "      <td>-1</td>\n",
       "      <td>0</td>\n",
       "      <td>unknown</td>\n",
       "      <td>no</td>\n",
       "    </tr>\n",
       "    <tr>\n",
       "      <th>1</th>\n",
       "      <td>44</td>\n",
       "      <td>technician</td>\n",
       "      <td>single</td>\n",
       "      <td>secondary</td>\n",
       "      <td>no</td>\n",
       "      <td>29</td>\n",
       "      <td>yes</td>\n",
       "      <td>no</td>\n",
       "      <td>unknown</td>\n",
       "      <td>5</td>\n",
       "      <td>may</td>\n",
       "      <td>151</td>\n",
       "      <td>1</td>\n",
       "      <td>-1</td>\n",
       "      <td>0</td>\n",
       "      <td>unknown</td>\n",
       "      <td>no</td>\n",
       "    </tr>\n",
       "    <tr>\n",
       "      <th>2</th>\n",
       "      <td>33</td>\n",
       "      <td>entrepreneur</td>\n",
       "      <td>married</td>\n",
       "      <td>secondary</td>\n",
       "      <td>no</td>\n",
       "      <td>2</td>\n",
       "      <td>yes</td>\n",
       "      <td>yes</td>\n",
       "      <td>unknown</td>\n",
       "      <td>5</td>\n",
       "      <td>may</td>\n",
       "      <td>76</td>\n",
       "      <td>1</td>\n",
       "      <td>-1</td>\n",
       "      <td>0</td>\n",
       "      <td>unknown</td>\n",
       "      <td>no</td>\n",
       "    </tr>\n",
       "    <tr>\n",
       "      <th>3</th>\n",
       "      <td>47</td>\n",
       "      <td>blue-collar</td>\n",
       "      <td>married</td>\n",
       "      <td>unknown</td>\n",
       "      <td>no</td>\n",
       "      <td>1506</td>\n",
       "      <td>yes</td>\n",
       "      <td>no</td>\n",
       "      <td>unknown</td>\n",
       "      <td>5</td>\n",
       "      <td>may</td>\n",
       "      <td>92</td>\n",
       "      <td>1</td>\n",
       "      <td>-1</td>\n",
       "      <td>0</td>\n",
       "      <td>unknown</td>\n",
       "      <td>no</td>\n",
       "    </tr>\n",
       "    <tr>\n",
       "      <th>4</th>\n",
       "      <td>33</td>\n",
       "      <td>unknown</td>\n",
       "      <td>single</td>\n",
       "      <td>unknown</td>\n",
       "      <td>no</td>\n",
       "      <td>1</td>\n",
       "      <td>no</td>\n",
       "      <td>no</td>\n",
       "      <td>unknown</td>\n",
       "      <td>5</td>\n",
       "      <td>may</td>\n",
       "      <td>198</td>\n",
       "      <td>1</td>\n",
       "      <td>-1</td>\n",
       "      <td>0</td>\n",
       "      <td>unknown</td>\n",
       "      <td>no</td>\n",
       "    </tr>\n",
       "  </tbody>\n",
       "</table>\n",
       "</div>"
      ],
      "text/plain": [
       "   age           job  marital  education default  balance housing loan  \\\n",
       "0   58    management  married   tertiary      no     2143     yes   no   \n",
       "1   44    technician   single  secondary      no       29     yes   no   \n",
       "2   33  entrepreneur  married  secondary      no        2     yes  yes   \n",
       "3   47   blue-collar  married    unknown      no     1506     yes   no   \n",
       "4   33       unknown   single    unknown      no        1      no   no   \n",
       "\n",
       "   contact  day month  duration  campaign  pdays  previous poutcome   y  \n",
       "0  unknown    5   may       261         1     -1         0  unknown  no  \n",
       "1  unknown    5   may       151         1     -1         0  unknown  no  \n",
       "2  unknown    5   may        76         1     -1         0  unknown  no  \n",
       "3  unknown    5   may        92         1     -1         0  unknown  no  \n",
       "4  unknown    5   may       198         1     -1         0  unknown  no  "
      ]
     },
     "execution_count": 15,
     "metadata": {},
     "output_type": "execute_result"
    }
   ],
   "source": [
    "#Show the data\n",
    "df.head()"
   ]
  },
  {
   "cell_type": "code",
   "execution_count": 16,
   "metadata": {},
   "outputs": [
    {
     "data": {
      "text/html": [
       "<div>\n",
       "<style scoped>\n",
       "    .dataframe tbody tr th:only-of-type {\n",
       "        vertical-align: middle;\n",
       "    }\n",
       "\n",
       "    .dataframe tbody tr th {\n",
       "        vertical-align: top;\n",
       "    }\n",
       "\n",
       "    .dataframe thead th {\n",
       "        text-align: right;\n",
       "    }\n",
       "</style>\n",
       "<table border=\"1\" class=\"dataframe\">\n",
       "  <thead>\n",
       "    <tr style=\"text-align: right;\">\n",
       "      <th></th>\n",
       "      <th>age</th>\n",
       "      <th>balance</th>\n",
       "      <th>housing</th>\n",
       "      <th>loan</th>\n",
       "      <th>duration</th>\n",
       "      <th>y</th>\n",
       "    </tr>\n",
       "  </thead>\n",
       "  <tbody>\n",
       "    <tr>\n",
       "      <th>0</th>\n",
       "      <td>58</td>\n",
       "      <td>2143</td>\n",
       "      <td>yes</td>\n",
       "      <td>no</td>\n",
       "      <td>261</td>\n",
       "      <td>no</td>\n",
       "    </tr>\n",
       "    <tr>\n",
       "      <th>1</th>\n",
       "      <td>44</td>\n",
       "      <td>29</td>\n",
       "      <td>yes</td>\n",
       "      <td>no</td>\n",
       "      <td>151</td>\n",
       "      <td>no</td>\n",
       "    </tr>\n",
       "    <tr>\n",
       "      <th>2</th>\n",
       "      <td>33</td>\n",
       "      <td>2</td>\n",
       "      <td>yes</td>\n",
       "      <td>yes</td>\n",
       "      <td>76</td>\n",
       "      <td>no</td>\n",
       "    </tr>\n",
       "    <tr>\n",
       "      <th>3</th>\n",
       "      <td>47</td>\n",
       "      <td>1506</td>\n",
       "      <td>yes</td>\n",
       "      <td>no</td>\n",
       "      <td>92</td>\n",
       "      <td>no</td>\n",
       "    </tr>\n",
       "    <tr>\n",
       "      <th>4</th>\n",
       "      <td>33</td>\n",
       "      <td>1</td>\n",
       "      <td>no</td>\n",
       "      <td>no</td>\n",
       "      <td>198</td>\n",
       "      <td>no</td>\n",
       "    </tr>\n",
       "  </tbody>\n",
       "</table>\n",
       "</div>"
      ],
      "text/plain": [
       "   age  balance housing loan  duration   y\n",
       "0   58     2143     yes   no       261  no\n",
       "1   44       29     yes   no       151  no\n",
       "2   33        2     yes  yes        76  no\n",
       "3   47     1506     yes   no        92  no\n",
       "4   33        1      no   no       198  no"
      ]
     },
     "execution_count": 16,
     "metadata": {},
     "output_type": "execute_result"
    }
   ],
   "source": [
    "#Use part of the dataset\n",
    "df = df[[\"age\", \"balance\", \"housing\", \"loan\", \"duration\", \"y\"]]\n",
    "df.head()"
   ]
  },
  {
   "cell_type": "code",
   "execution_count": 17,
   "metadata": {},
   "outputs": [
    {
     "data": {
      "text/plain": [
       "y\n",
       "no     39922\n",
       "yes     5289\n",
       "Name: count, dtype: int64"
      ]
     },
     "execution_count": 17,
     "metadata": {},
     "output_type": "execute_result"
    }
   ],
   "source": [
    "#Target Variable number of Classes\n",
    "df[\"y\"].value_counts()"
   ]
  },
  {
   "cell_type": "markdown",
   "metadata": {},
   "source": [
    "# Categorical Feature Encoding"
   ]
  },
  {
   "cell_type": "code",
   "execution_count": 18,
   "metadata": {},
   "outputs": [
    {
     "data": {
      "text/plain": [
       "((45211, 2), (45211, 2))"
      ]
     },
     "execution_count": 18,
     "metadata": {},
     "output_type": "execute_result"
    }
   ],
   "source": [
    "#Dummy code the categorical features\n",
    "dummy1 = pd.get_dummies(df[\"housing\"], prefix = 'housing-', prefix_sep = '' , dtype = int)\n",
    "dummy2 = pd.get_dummies(df[\"loan\"], prefix = 'loan-', prefix_sep = '' , dtype = int)\n",
    "dummy1.shape, dummy2.shape"
   ]
  },
  {
   "cell_type": "code",
   "execution_count": 19,
   "metadata": {},
   "outputs": [
    {
     "data": {
      "text/html": [
       "<div>\n",
       "<style scoped>\n",
       "    .dataframe tbody tr th:only-of-type {\n",
       "        vertical-align: middle;\n",
       "    }\n",
       "\n",
       "    .dataframe tbody tr th {\n",
       "        vertical-align: top;\n",
       "    }\n",
       "\n",
       "    .dataframe thead th {\n",
       "        text-align: right;\n",
       "    }\n",
       "</style>\n",
       "<table border=\"1\" class=\"dataframe\">\n",
       "  <thead>\n",
       "    <tr style=\"text-align: right;\">\n",
       "      <th></th>\n",
       "      <th>age</th>\n",
       "      <th>balance</th>\n",
       "      <th>housing</th>\n",
       "      <th>loan</th>\n",
       "      <th>duration</th>\n",
       "      <th>y</th>\n",
       "      <th>housing-no</th>\n",
       "      <th>housing-yes</th>\n",
       "      <th>loan-no</th>\n",
       "      <th>loan-yes</th>\n",
       "    </tr>\n",
       "  </thead>\n",
       "  <tbody>\n",
       "    <tr>\n",
       "      <th>0</th>\n",
       "      <td>58</td>\n",
       "      <td>2143</td>\n",
       "      <td>yes</td>\n",
       "      <td>no</td>\n",
       "      <td>261</td>\n",
       "      <td>no</td>\n",
       "      <td>0</td>\n",
       "      <td>1</td>\n",
       "      <td>1</td>\n",
       "      <td>0</td>\n",
       "    </tr>\n",
       "    <tr>\n",
       "      <th>1</th>\n",
       "      <td>44</td>\n",
       "      <td>29</td>\n",
       "      <td>yes</td>\n",
       "      <td>no</td>\n",
       "      <td>151</td>\n",
       "      <td>no</td>\n",
       "      <td>0</td>\n",
       "      <td>1</td>\n",
       "      <td>1</td>\n",
       "      <td>0</td>\n",
       "    </tr>\n",
       "    <tr>\n",
       "      <th>2</th>\n",
       "      <td>33</td>\n",
       "      <td>2</td>\n",
       "      <td>yes</td>\n",
       "      <td>yes</td>\n",
       "      <td>76</td>\n",
       "      <td>no</td>\n",
       "      <td>0</td>\n",
       "      <td>1</td>\n",
       "      <td>0</td>\n",
       "      <td>1</td>\n",
       "    </tr>\n",
       "    <tr>\n",
       "      <th>3</th>\n",
       "      <td>47</td>\n",
       "      <td>1506</td>\n",
       "      <td>yes</td>\n",
       "      <td>no</td>\n",
       "      <td>92</td>\n",
       "      <td>no</td>\n",
       "      <td>0</td>\n",
       "      <td>1</td>\n",
       "      <td>1</td>\n",
       "      <td>0</td>\n",
       "    </tr>\n",
       "    <tr>\n",
       "      <th>4</th>\n",
       "      <td>33</td>\n",
       "      <td>1</td>\n",
       "      <td>no</td>\n",
       "      <td>no</td>\n",
       "      <td>198</td>\n",
       "      <td>no</td>\n",
       "      <td>1</td>\n",
       "      <td>0</td>\n",
       "      <td>1</td>\n",
       "      <td>0</td>\n",
       "    </tr>\n",
       "  </tbody>\n",
       "</table>\n",
       "</div>"
      ],
      "text/plain": [
       "   age  balance housing loan  duration   y  housing-no  housing-yes  loan-no  \\\n",
       "0   58     2143     yes   no       261  no           0            1        1   \n",
       "1   44       29     yes   no       151  no           0            1        1   \n",
       "2   33        2     yes  yes        76  no           0            1        0   \n",
       "3   47     1506     yes   no        92  no           0            1        1   \n",
       "4   33        1      no   no       198  no           1            0        1   \n",
       "\n",
       "   loan-yes  \n",
       "0         0  \n",
       "1         0  \n",
       "2         1  \n",
       "3         0  \n",
       "4         0  "
      ]
     },
     "execution_count": 19,
     "metadata": {},
     "output_type": "execute_result"
    }
   ],
   "source": [
    "#Concatenate the dummy encoded categorical features to df\n",
    "df_final = pd.concat([df, dummy1, dummy2], axis = 1)\n",
    "df_final.head()"
   ]
  },
  {
   "cell_type": "code",
   "execution_count": 20,
   "metadata": {},
   "outputs": [
    {
     "data": {
      "text/html": [
       "<div>\n",
       "<style scoped>\n",
       "    .dataframe tbody tr th:only-of-type {\n",
       "        vertical-align: middle;\n",
       "    }\n",
       "\n",
       "    .dataframe tbody tr th {\n",
       "        vertical-align: top;\n",
       "    }\n",
       "\n",
       "    .dataframe thead th {\n",
       "        text-align: right;\n",
       "    }\n",
       "</style>\n",
       "<table border=\"1\" class=\"dataframe\">\n",
       "  <thead>\n",
       "    <tr style=\"text-align: right;\">\n",
       "      <th></th>\n",
       "      <th>age</th>\n",
       "      <th>balance</th>\n",
       "      <th>duration</th>\n",
       "      <th>y</th>\n",
       "      <th>housing-no</th>\n",
       "      <th>housing-yes</th>\n",
       "      <th>loan-no</th>\n",
       "      <th>loan-yes</th>\n",
       "    </tr>\n",
       "  </thead>\n",
       "  <tbody>\n",
       "    <tr>\n",
       "      <th>0</th>\n",
       "      <td>58</td>\n",
       "      <td>2143</td>\n",
       "      <td>261</td>\n",
       "      <td>no</td>\n",
       "      <td>0</td>\n",
       "      <td>1</td>\n",
       "      <td>1</td>\n",
       "      <td>0</td>\n",
       "    </tr>\n",
       "    <tr>\n",
       "      <th>1</th>\n",
       "      <td>44</td>\n",
       "      <td>29</td>\n",
       "      <td>151</td>\n",
       "      <td>no</td>\n",
       "      <td>0</td>\n",
       "      <td>1</td>\n",
       "      <td>1</td>\n",
       "      <td>0</td>\n",
       "    </tr>\n",
       "    <tr>\n",
       "      <th>2</th>\n",
       "      <td>33</td>\n",
       "      <td>2</td>\n",
       "      <td>76</td>\n",
       "      <td>no</td>\n",
       "      <td>0</td>\n",
       "      <td>1</td>\n",
       "      <td>0</td>\n",
       "      <td>1</td>\n",
       "    </tr>\n",
       "    <tr>\n",
       "      <th>3</th>\n",
       "      <td>47</td>\n",
       "      <td>1506</td>\n",
       "      <td>92</td>\n",
       "      <td>no</td>\n",
       "      <td>0</td>\n",
       "      <td>1</td>\n",
       "      <td>1</td>\n",
       "      <td>0</td>\n",
       "    </tr>\n",
       "    <tr>\n",
       "      <th>4</th>\n",
       "      <td>33</td>\n",
       "      <td>1</td>\n",
       "      <td>198</td>\n",
       "      <td>no</td>\n",
       "      <td>1</td>\n",
       "      <td>0</td>\n",
       "      <td>1</td>\n",
       "      <td>0</td>\n",
       "    </tr>\n",
       "  </tbody>\n",
       "</table>\n",
       "</div>"
      ],
      "text/plain": [
       "   age  balance  duration   y  housing-no  housing-yes  loan-no  loan-yes\n",
       "0   58     2143       261  no           0            1        1         0\n",
       "1   44       29       151  no           0            1        1         0\n",
       "2   33        2        76  no           0            1        0         1\n",
       "3   47     1506        92  no           0            1        1         0\n",
       "4   33        1       198  no           1            0        1         0"
      ]
     },
     "execution_count": 20,
     "metadata": {},
     "output_type": "execute_result"
    }
   ],
   "source": [
    "#Drop features \"housing\" and \"loan\"\n",
    "df_final = df_final.drop([\"housing\", \"loan\"], axis = 1)\n",
    "df_final.head()"
   ]
  },
  {
   "cell_type": "code",
   "execution_count": 21,
   "metadata": {},
   "outputs": [
    {
     "data": {
      "text/html": [
       "<div>\n",
       "<style scoped>\n",
       "    .dataframe tbody tr th:only-of-type {\n",
       "        vertical-align: middle;\n",
       "    }\n",
       "\n",
       "    .dataframe tbody tr th {\n",
       "        vertical-align: top;\n",
       "    }\n",
       "\n",
       "    .dataframe thead th {\n",
       "        text-align: right;\n",
       "    }\n",
       "</style>\n",
       "<table border=\"1\" class=\"dataframe\">\n",
       "  <thead>\n",
       "    <tr style=\"text-align: right;\">\n",
       "      <th></th>\n",
       "      <th>age</th>\n",
       "      <th>balance</th>\n",
       "      <th>duration</th>\n",
       "      <th>y</th>\n",
       "      <th>housing-no</th>\n",
       "      <th>housing-yes</th>\n",
       "      <th>loan-no</th>\n",
       "      <th>loan-yes</th>\n",
       "    </tr>\n",
       "  </thead>\n",
       "  <tbody>\n",
       "    <tr>\n",
       "      <th>0</th>\n",
       "      <td>58</td>\n",
       "      <td>2143</td>\n",
       "      <td>261</td>\n",
       "      <td>0</td>\n",
       "      <td>0</td>\n",
       "      <td>1</td>\n",
       "      <td>1</td>\n",
       "      <td>0</td>\n",
       "    </tr>\n",
       "    <tr>\n",
       "      <th>1</th>\n",
       "      <td>44</td>\n",
       "      <td>29</td>\n",
       "      <td>151</td>\n",
       "      <td>0</td>\n",
       "      <td>0</td>\n",
       "      <td>1</td>\n",
       "      <td>1</td>\n",
       "      <td>0</td>\n",
       "    </tr>\n",
       "    <tr>\n",
       "      <th>2</th>\n",
       "      <td>33</td>\n",
       "      <td>2</td>\n",
       "      <td>76</td>\n",
       "      <td>0</td>\n",
       "      <td>0</td>\n",
       "      <td>1</td>\n",
       "      <td>0</td>\n",
       "      <td>1</td>\n",
       "    </tr>\n",
       "    <tr>\n",
       "      <th>3</th>\n",
       "      <td>47</td>\n",
       "      <td>1506</td>\n",
       "      <td>92</td>\n",
       "      <td>0</td>\n",
       "      <td>0</td>\n",
       "      <td>1</td>\n",
       "      <td>1</td>\n",
       "      <td>0</td>\n",
       "    </tr>\n",
       "    <tr>\n",
       "      <th>4</th>\n",
       "      <td>33</td>\n",
       "      <td>1</td>\n",
       "      <td>198</td>\n",
       "      <td>0</td>\n",
       "      <td>1</td>\n",
       "      <td>0</td>\n",
       "      <td>1</td>\n",
       "      <td>0</td>\n",
       "    </tr>\n",
       "  </tbody>\n",
       "</table>\n",
       "</div>"
      ],
      "text/plain": [
       "   age  balance  duration  y  housing-no  housing-yes  loan-no  loan-yes\n",
       "0   58     2143       261  0           0            1        1         0\n",
       "1   44       29       151  0           0            1        1         0\n",
       "2   33        2        76  0           0            1        0         1\n",
       "3   47     1506        92  0           0            1        1         0\n",
       "4   33        1       198  0           1            0        1         0"
      ]
     },
     "execution_count": 21,
     "metadata": {},
     "output_type": "execute_result"
    }
   ],
   "source": [
    "#Label encoding the target variable \"y\"\n",
    "df_final[\"y\"] = LabelEncoder().fit_transform(df_final[\"y\"])\n",
    "df_final.head()"
   ]
  },
  {
   "cell_type": "markdown",
   "metadata": {},
   "source": [
    "# Data Splitting"
   ]
  },
  {
   "cell_type": "code",
   "execution_count": 22,
   "metadata": {},
   "outputs": [
    {
     "data": {
      "text/plain": [
       "((45211,), (45211, 7))"
      ]
     },
     "execution_count": 22,
     "metadata": {},
     "output_type": "execute_result"
    }
   ],
   "source": [
    "#Form X and Y data\n",
    "Y = df_final[\"y\"]\n",
    "X = df_final.drop([\"y\"], axis = 1)\n",
    "Y.shape, X.shape"
   ]
  },
  {
   "cell_type": "code",
   "execution_count": 23,
   "metadata": {},
   "outputs": [
    {
     "data": {
      "text/html": [
       "<div>\n",
       "<style scoped>\n",
       "    .dataframe tbody tr th:only-of-type {\n",
       "        vertical-align: middle;\n",
       "    }\n",
       "\n",
       "    .dataframe tbody tr th {\n",
       "        vertical-align: top;\n",
       "    }\n",
       "\n",
       "    .dataframe thead th {\n",
       "        text-align: right;\n",
       "    }\n",
       "</style>\n",
       "<table border=\"1\" class=\"dataframe\">\n",
       "  <thead>\n",
       "    <tr style=\"text-align: right;\">\n",
       "      <th></th>\n",
       "      <th>age</th>\n",
       "      <th>balance</th>\n",
       "      <th>duration</th>\n",
       "      <th>housing-no</th>\n",
       "      <th>housing-yes</th>\n",
       "      <th>loan-no</th>\n",
       "      <th>loan-yes</th>\n",
       "    </tr>\n",
       "  </thead>\n",
       "  <tbody>\n",
       "    <tr>\n",
       "      <th>0</th>\n",
       "      <td>58</td>\n",
       "      <td>2143</td>\n",
       "      <td>261</td>\n",
       "      <td>0</td>\n",
       "      <td>1</td>\n",
       "      <td>1</td>\n",
       "      <td>0</td>\n",
       "    </tr>\n",
       "    <tr>\n",
       "      <th>1</th>\n",
       "      <td>44</td>\n",
       "      <td>29</td>\n",
       "      <td>151</td>\n",
       "      <td>0</td>\n",
       "      <td>1</td>\n",
       "      <td>1</td>\n",
       "      <td>0</td>\n",
       "    </tr>\n",
       "    <tr>\n",
       "      <th>2</th>\n",
       "      <td>33</td>\n",
       "      <td>2</td>\n",
       "      <td>76</td>\n",
       "      <td>0</td>\n",
       "      <td>1</td>\n",
       "      <td>0</td>\n",
       "      <td>1</td>\n",
       "    </tr>\n",
       "    <tr>\n",
       "      <th>3</th>\n",
       "      <td>47</td>\n",
       "      <td>1506</td>\n",
       "      <td>92</td>\n",
       "      <td>0</td>\n",
       "      <td>1</td>\n",
       "      <td>1</td>\n",
       "      <td>0</td>\n",
       "    </tr>\n",
       "    <tr>\n",
       "      <th>4</th>\n",
       "      <td>33</td>\n",
       "      <td>1</td>\n",
       "      <td>198</td>\n",
       "      <td>1</td>\n",
       "      <td>0</td>\n",
       "      <td>1</td>\n",
       "      <td>0</td>\n",
       "    </tr>\n",
       "  </tbody>\n",
       "</table>\n",
       "</div>"
      ],
      "text/plain": [
       "   age  balance  duration  housing-no  housing-yes  loan-no  loan-yes\n",
       "0   58     2143       261           0            1        1         0\n",
       "1   44       29       151           0            1        1         0\n",
       "2   33        2        76           0            1        0         1\n",
       "3   47     1506        92           0            1        1         0\n",
       "4   33        1       198           1            0        1         0"
      ]
     },
     "execution_count": 23,
     "metadata": {},
     "output_type": "execute_result"
    }
   ],
   "source": [
    "#Show X data\n",
    "X.head()"
   ]
  },
  {
   "cell_type": "code",
   "execution_count": 24,
   "metadata": {},
   "outputs": [
    {
     "data": {
      "text/plain": [
       "(((36620, 7), (4522, 7), (4069, 7)), ((36620,), (4522,), (4069,)))"
      ]
     },
     "execution_count": 24,
     "metadata": {},
     "output_type": "execute_result"
    }
   ],
   "source": [
    "#Split to train-test-validation data\n",
    "X_train, X_test, Y_train, Y_test = train_test_split(X, Y, random_state = 34, test_size = 0.10, stratify = df_final[\"y\"])\n",
    "X_train, X_valid, Y_train, Y_valid = train_test_split(X_train, Y_train, test_size = 0.10, random_state = 37)\n",
    "(X_train.shape, X_test.shape, X_valid.shape), (Y_train.shape, Y_test.shape, Y_valid.shape)"
   ]
  },
  {
   "cell_type": "code",
   "execution_count": 25,
   "metadata": {},
   "outputs": [
    {
     "data": {
      "text/html": [
       "<div>\n",
       "<style scoped>\n",
       "    .dataframe tbody tr th:only-of-type {\n",
       "        vertical-align: middle;\n",
       "    }\n",
       "\n",
       "    .dataframe tbody tr th {\n",
       "        vertical-align: top;\n",
       "    }\n",
       "\n",
       "    .dataframe thead th {\n",
       "        text-align: right;\n",
       "    }\n",
       "</style>\n",
       "<table border=\"1\" class=\"dataframe\">\n",
       "  <thead>\n",
       "    <tr style=\"text-align: right;\">\n",
       "      <th></th>\n",
       "      <th>age</th>\n",
       "      <th>balance</th>\n",
       "      <th>duration</th>\n",
       "      <th>housing-no</th>\n",
       "      <th>housing-yes</th>\n",
       "      <th>loan-no</th>\n",
       "      <th>loan-yes</th>\n",
       "    </tr>\n",
       "  </thead>\n",
       "  <tbody>\n",
       "    <tr>\n",
       "      <th>3260</th>\n",
       "      <td>45</td>\n",
       "      <td>959</td>\n",
       "      <td>463</td>\n",
       "      <td>0</td>\n",
       "      <td>1</td>\n",
       "      <td>1</td>\n",
       "      <td>0</td>\n",
       "    </tr>\n",
       "    <tr>\n",
       "      <th>23127</th>\n",
       "      <td>46</td>\n",
       "      <td>326</td>\n",
       "      <td>182</td>\n",
       "      <td>1</td>\n",
       "      <td>0</td>\n",
       "      <td>1</td>\n",
       "      <td>0</td>\n",
       "    </tr>\n",
       "    <tr>\n",
       "      <th>23391</th>\n",
       "      <td>35</td>\n",
       "      <td>753</td>\n",
       "      <td>111</td>\n",
       "      <td>1</td>\n",
       "      <td>0</td>\n",
       "      <td>1</td>\n",
       "      <td>0</td>\n",
       "    </tr>\n",
       "    <tr>\n",
       "      <th>5884</th>\n",
       "      <td>32</td>\n",
       "      <td>3</td>\n",
       "      <td>114</td>\n",
       "      <td>0</td>\n",
       "      <td>1</td>\n",
       "      <td>1</td>\n",
       "      <td>0</td>\n",
       "    </tr>\n",
       "    <tr>\n",
       "      <th>40568</th>\n",
       "      <td>34</td>\n",
       "      <td>5973</td>\n",
       "      <td>326</td>\n",
       "      <td>0</td>\n",
       "      <td>1</td>\n",
       "      <td>1</td>\n",
       "      <td>0</td>\n",
       "    </tr>\n",
       "  </tbody>\n",
       "</table>\n",
       "</div>"
      ],
      "text/plain": [
       "       age  balance  duration  housing-no  housing-yes  loan-no  loan-yes\n",
       "3260    45      959       463           0            1        1         0\n",
       "23127   46      326       182           1            0        1         0\n",
       "23391   35      753       111           1            0        1         0\n",
       "5884    32        3       114           0            1        1         0\n",
       "40568   34     5973       326           0            1        1         0"
      ]
     },
     "execution_count": 25,
     "metadata": {},
     "output_type": "execute_result"
    }
   ],
   "source": [
    "#Show X_train data\n",
    "X_train.head()"
   ]
  },
  {
   "cell_type": "code",
   "execution_count": 26,
   "metadata": {},
   "outputs": [
    {
     "data": {
      "text/plain": [
       "((36620, 7), (4522, 7), (4069, 7))"
      ]
     },
     "execution_count": 26,
     "metadata": {},
     "output_type": "execute_result"
    }
   ],
   "source": [
    "#Scale the numeric data\n",
    "scaler = RobustScaler()\n",
    "X_train[X_train.columns[0:3]] = scaler.fit_transform(X_train[X_train.columns[0:3]])\n",
    "X_test[X_test.columns[0:3]] = scaler.transform(X_test[X_test.columns[0:3]])\n",
    "X_valid[X_valid.columns[0:3]] = scaler.transform(X_valid[X_valid.columns[0:3]])\n",
    "(X_train.shape, X_test.shape, X_valid.shape)"
   ]
  },
  {
   "cell_type": "code",
   "execution_count": 27,
   "metadata": {},
   "outputs": [
    {
     "data": {
      "text/html": [
       "<div>\n",
       "<style scoped>\n",
       "    .dataframe tbody tr th:only-of-type {\n",
       "        vertical-align: middle;\n",
       "    }\n",
       "\n",
       "    .dataframe tbody tr th {\n",
       "        vertical-align: top;\n",
       "    }\n",
       "\n",
       "    .dataframe thead th {\n",
       "        text-align: right;\n",
       "    }\n",
       "</style>\n",
       "<table border=\"1\" class=\"dataframe\">\n",
       "  <thead>\n",
       "    <tr style=\"text-align: right;\">\n",
       "      <th></th>\n",
       "      <th>age</th>\n",
       "      <th>balance</th>\n",
       "      <th>duration</th>\n",
       "      <th>housing-no</th>\n",
       "      <th>housing-yes</th>\n",
       "      <th>loan-no</th>\n",
       "      <th>loan-yes</th>\n",
       "    </tr>\n",
       "  </thead>\n",
       "  <tbody>\n",
       "    <tr>\n",
       "      <th>3260</th>\n",
       "      <td>0.400000</td>\n",
       "      <td>0.380313</td>\n",
       "      <td>1.310185</td>\n",
       "      <td>0</td>\n",
       "      <td>1</td>\n",
       "      <td>1</td>\n",
       "      <td>0</td>\n",
       "    </tr>\n",
       "    <tr>\n",
       "      <th>23127</th>\n",
       "      <td>0.466667</td>\n",
       "      <td>-0.091723</td>\n",
       "      <td>0.009259</td>\n",
       "      <td>1</td>\n",
       "      <td>0</td>\n",
       "      <td>1</td>\n",
       "      <td>0</td>\n",
       "    </tr>\n",
       "    <tr>\n",
       "      <th>23391</th>\n",
       "      <td>-0.266667</td>\n",
       "      <td>0.226696</td>\n",
       "      <td>-0.319444</td>\n",
       "      <td>1</td>\n",
       "      <td>0</td>\n",
       "      <td>1</td>\n",
       "      <td>0</td>\n",
       "    </tr>\n",
       "    <tr>\n",
       "      <th>5884</th>\n",
       "      <td>-0.466667</td>\n",
       "      <td>-0.332588</td>\n",
       "      <td>-0.305556</td>\n",
       "      <td>0</td>\n",
       "      <td>1</td>\n",
       "      <td>1</td>\n",
       "      <td>0</td>\n",
       "    </tr>\n",
       "    <tr>\n",
       "      <th>40568</th>\n",
       "      <td>-0.333333</td>\n",
       "      <td>4.119314</td>\n",
       "      <td>0.675926</td>\n",
       "      <td>0</td>\n",
       "      <td>1</td>\n",
       "      <td>1</td>\n",
       "      <td>0</td>\n",
       "    </tr>\n",
       "  </tbody>\n",
       "</table>\n",
       "</div>"
      ],
      "text/plain": [
       "            age   balance  duration  housing-no  housing-yes  loan-no  \\\n",
       "3260   0.400000  0.380313  1.310185           0            1        1   \n",
       "23127  0.466667 -0.091723  0.009259           1            0        1   \n",
       "23391 -0.266667  0.226696 -0.319444           1            0        1   \n",
       "5884  -0.466667 -0.332588 -0.305556           0            1        1   \n",
       "40568 -0.333333  4.119314  0.675926           0            1        1   \n",
       "\n",
       "       loan-yes  \n",
       "3260          0  \n",
       "23127         0  \n",
       "23391         0  \n",
       "5884          0  \n",
       "40568         0  "
      ]
     },
     "execution_count": 27,
     "metadata": {},
     "output_type": "execute_result"
    }
   ],
   "source": [
    "#Show X_train data (but scaled now)\n",
    "X_train.head()"
   ]
  },
  {
   "cell_type": "markdown",
   "metadata": {},
   "source": [
    "# Classification without SMOTENC"
   ]
  },
  {
   "cell_type": "markdown",
   "metadata": {},
   "source": [
    "MLP1 - One-Layer Perceptron (1 Neuron)"
   ]
  },
  {
   "cell_type": "code",
   "execution_count": 28,
   "metadata": {},
   "outputs": [
    {
     "name": "stderr",
     "output_type": "stream",
     "text": [
      "C:\\Users\\iakov\\AppData\\Local\\Packages\\PythonSoftwareFoundation.Python.3.11_qbz5n2kfra8p0\\LocalCache\\local-packages\\Python311\\site-packages\\sklearn\\neural_network\\_multilayer_perceptron.py:690: ConvergenceWarning: Stochastic Optimizer: Maximum iterations (30) reached and the optimization hasn't converged yet.\n",
      "  warnings.warn(\n"
     ]
    },
    {
     "data": {
      "text/plain": [
       "[array([[ 0.00878898],\n",
       "        [-0.01763712],\n",
       "        [-0.55154374],\n",
       "        [ 0.79188592],\n",
       "        [ 1.37796569],\n",
       "        [-0.24907934],\n",
       "        [ 0.17458562]]),\n",
       " array([[-2.29185126]])]"
      ]
     },
     "execution_count": 28,
     "metadata": {},
     "output_type": "execute_result"
    }
   ],
   "source": [
    "#Define MLP\n",
    "mlp1 = MLPClassifier(hidden_layer_sizes = (1,), activation = \"relu\", solver = \"adam\", learning_rate = \"constant\", learning_rate_init = 0.001, max_iter = 30, tol = 0.0001, random_state = 81)\n",
    "#Fit MLP\n",
    "mlp1.fit(X_train, Y_train)\n",
    "#Test Predictions\n",
    "mlp1_Y_pred_test = mlp1.predict(X_test)\n",
    "#Validation Predictions\n",
    "mlp1_Y_pred_valid = mlp1.predict(X_valid)\n",
    "#Weights\n",
    "mlp1.coefs_"
   ]
  },
  {
   "cell_type": "code",
   "execution_count": 29,
   "metadata": {},
   "outputs": [
    {
     "data": {
      "text/plain": [
       "[array([0.55480672]), array([0.37579295])]"
      ]
     },
     "execution_count": 29,
     "metadata": {},
     "output_type": "execute_result"
    }
   ],
   "source": [
    "#Bias\n",
    "mlp1.intercepts_"
   ]
  },
  {
   "cell_type": "code",
   "execution_count": 30,
   "metadata": {},
   "outputs": [
    {
     "data": {
      "text/plain": [
       "3"
      ]
     },
     "execution_count": 30,
     "metadata": {},
     "output_type": "execute_result"
    }
   ],
   "source": [
    "#Number of Layers\n",
    "mlp1.n_layers_"
   ]
  },
  {
   "cell_type": "code",
   "execution_count": 31,
   "metadata": {},
   "outputs": [
    {
     "data": {
      "text/plain": [
       "'logistic'"
      ]
     },
     "execution_count": 31,
     "metadata": {},
     "output_type": "execute_result"
    }
   ],
   "source": [
    "#Output Activation Function\n",
    "mlp1.out_activation_"
   ]
  },
  {
   "cell_type": "code",
   "execution_count": 32,
   "metadata": {},
   "outputs": [
    {
     "name": "stdout",
     "output_type": "stream",
     "text": [
      "Classification Report for Test Data\n",
      "              precision    recall  f1-score   support\n",
      "\n",
      "           0       0.91      0.96      0.94      3993\n",
      "           1       0.52      0.30      0.38       529\n",
      "\n",
      "    accuracy                           0.89      4522\n",
      "   macro avg       0.72      0.63      0.66      4522\n",
      "weighted avg       0.87      0.89      0.87      4522\n",
      "\n"
     ]
    }
   ],
   "source": [
    "#Test Data Classification Report\n",
    "print(\"Classification Report for Test Data\")\n",
    "print(classification_report(Y_test, mlp1_Y_pred_test))"
   ]
  },
  {
   "cell_type": "code",
   "execution_count": 33,
   "metadata": {},
   "outputs": [
    {
     "name": "stdout",
     "output_type": "stream",
     "text": [
      "Classification Report for Validation Data\n",
      "              precision    recall  f1-score   support\n",
      "\n",
      "           0       0.91      0.96      0.94      3599\n",
      "           1       0.51      0.30      0.37       470\n",
      "\n",
      "    accuracy                           0.89      4069\n",
      "   macro avg       0.71      0.63      0.66      4069\n",
      "weighted avg       0.87      0.89      0.87      4069\n",
      "\n"
     ]
    }
   ],
   "source": [
    "#Validation Data Classification Report\n",
    "print(\"Classification Report for Validation Data\")\n",
    "print(classification_report(Y_valid, mlp1_Y_pred_valid))"
   ]
  },
  {
   "cell_type": "code",
   "execution_count": null,
   "metadata": {},
   "outputs": [
    {
     "data": {
      "text/plain": [
       "<Figure size 0.2x0.2 with 0 Axes>"
      ]
     },
     "metadata": {},
     "output_type": "display_data"
    },
    {
     "data": {
      "image/png": "[encoded data removed]",
      "text/plain": [
       "<Figure size 640x480 with 2 Axes>"
      ]
     },
     "metadata": {},
     "output_type": "display_data"
    }
   ],
   "source": [
    "#MLP1 Test Data Confusion Matrix\n",
    "mlp1_cm_test = ConfusionMatrixDisplay(confusion_matrix = confusion_matrix(Y_test, mlp1_Y_pred_test), display_labels = [0, 1])\n",
    "plt.figure(figsize = (0.002, 0.002))\n",
    "mlp1_cm_test.plot()\n",
    "plt.show()"
   ]
  },
  {
   "cell_type": "code",
   "execution_count": null,
   "metadata": {},
   "outputs": [
    {
     "data": {
      "text/plain": [
       "<Figure size 0.2x0.2 with 0 Axes>"
      ]
     },
     "metadata": {},
     "output_type": "display_data"
    },
    {
     "data": {
      "image/png": "[encoded data removed]",
      "text/plain": [
       "<Figure size 640x480 with 2 Axes>"
      ]
     },
     "metadata": {},
     "output_type": "display_data"
    }
   ],
   "source": [
    "#MLP1 Validation Data Confusion Matrix\n",
    "mlp1_cm_valid = ConfusionMatrixDisplay(confusion_matrix = confusion_matrix(Y_valid, mlp1_Y_pred_valid), display_labels = [0, 1])\n",
    "plt.figure(figsize = (0.002, 0.002))\n",
    "mlp1_cm_valid.plot()\n",
    "plt.show()"
   ]
  },
  {
   "cell_type": "markdown",
   "metadata": {},
   "source": [
    "MLP2 - Multy-Layer Perceptron (2 Hidden Layers, 1 Neuron per Layer)"
   ]
  },
  {
   "cell_type": "code",
   "execution_count": 36,
   "metadata": {},
   "outputs": [
    {
     "name": "stderr",
     "output_type": "stream",
     "text": [
      "C:\\Users\\iakov\\AppData\\Local\\Packages\\PythonSoftwareFoundation.Python.3.11_qbz5n2kfra8p0\\LocalCache\\local-packages\\Python311\\site-packages\\sklearn\\neural_network\\_multilayer_perceptron.py:690: ConvergenceWarning: Stochastic Optimizer: Maximum iterations (30) reached and the optimization hasn't converged yet.\n",
      "  warnings.warn(\n"
     ]
    },
    {
     "data": {
      "text/plain": [
       "[array([[-0.00959481],\n",
       "        [ 0.03146573],\n",
       "        [ 0.61621084],\n",
       "        [ 1.04607027],\n",
       "        [ 0.42594375],\n",
       "        [-0.40502201],\n",
       "        [-0.91483134]]),\n",
       " array([[-1.53882522]]),\n",
       " array([[-1.60571596]])]"
      ]
     },
     "execution_count": 36,
     "metadata": {},
     "output_type": "execute_result"
    }
   ],
   "source": [
    "#Define MLP\n",
    "mlp2 = MLPClassifier(hidden_layer_sizes = (1,1), activation = \"relu\", solver = \"adam\", learning_rate = \"constant\", learning_rate_init = 0.001, max_iter = 30, tol = 0.0001, random_state = 81)\n",
    "#Fit MLP\n",
    "mlp2.fit(X_train, Y_train)\n",
    "#Test Predictions\n",
    "mlp2_Y_pred_test = mlp2.predict(X_test)\n",
    "#Validation Predictions\n",
    "mlp2_Y_pred_valid = mlp2.predict(X_valid)\n",
    "#Weights\n",
    "mlp2.coefs_"
   ]
  },
  {
   "cell_type": "code",
   "execution_count": 37,
   "metadata": {},
   "outputs": [
    {
     "data": {
      "text/plain": [
       "[array([0.16198935]), array([2.38681772]), array([-0.23323724])]"
      ]
     },
     "execution_count": 37,
     "metadata": {},
     "output_type": "execute_result"
    }
   ],
   "source": [
    "#Bias\n",
    "mlp2.intercepts_"
   ]
  },
  {
   "cell_type": "code",
   "execution_count": 38,
   "metadata": {},
   "outputs": [
    {
     "data": {
      "text/plain": [
       "4"
      ]
     },
     "execution_count": 38,
     "metadata": {},
     "output_type": "execute_result"
    }
   ],
   "source": [
    "#Number of Layers\n",
    "mlp2.n_layers_"
   ]
  },
  {
   "cell_type": "code",
   "execution_count": 39,
   "metadata": {},
   "outputs": [
    {
     "name": "stdout",
     "output_type": "stream",
     "text": [
      "Classification Report for Test Data\n",
      "              precision    recall  f1-score   support\n",
      "\n",
      "           0       0.88      1.00      0.94      3993\n",
      "           1       0.00      0.00      0.00       529\n",
      "\n",
      "    accuracy                           0.88      4522\n",
      "   macro avg       0.44      0.50      0.47      4522\n",
      "weighted avg       0.78      0.88      0.83      4522\n",
      "\n"
     ]
    },
    {
     "name": "stderr",
     "output_type": "stream",
     "text": [
      "C:\\Users\\iakov\\AppData\\Local\\Packages\\PythonSoftwareFoundation.Python.3.11_qbz5n2kfra8p0\\LocalCache\\local-packages\\Python311\\site-packages\\sklearn\\metrics\\_classification.py:1531: UndefinedMetricWarning: Precision is ill-defined and being set to 0.0 in labels with no predicted samples. Use `zero_division` parameter to control this behavior.\n",
      "  _warn_prf(average, modifier, f\"{metric.capitalize()} is\", len(result))\n",
      "C:\\Users\\iakov\\AppData\\Local\\Packages\\PythonSoftwareFoundation.Python.3.11_qbz5n2kfra8p0\\LocalCache\\local-packages\\Python311\\site-packages\\sklearn\\metrics\\_classification.py:1531: UndefinedMetricWarning: Precision is ill-defined and being set to 0.0 in labels with no predicted samples. Use `zero_division` parameter to control this behavior.\n",
      "  _warn_prf(average, modifier, f\"{metric.capitalize()} is\", len(result))\n",
      "C:\\Users\\iakov\\AppData\\Local\\Packages\\PythonSoftwareFoundation.Python.3.11_qbz5n2kfra8p0\\LocalCache\\local-packages\\Python311\\site-packages\\sklearn\\metrics\\_classification.py:1531: UndefinedMetricWarning: Precision is ill-defined and being set to 0.0 in labels with no predicted samples. Use `zero_division` parameter to control this behavior.\n",
      "  _warn_prf(average, modifier, f\"{metric.capitalize()} is\", len(result))\n"
     ]
    }
   ],
   "source": [
    "#Test Data Classification Report\n",
    "print(\"Classification Report for Test Data\")\n",
    "print(classification_report(Y_test, mlp2_Y_pred_test))"
   ]
  },
  {
   "cell_type": "code",
   "execution_count": 40,
   "metadata": {},
   "outputs": [
    {
     "name": "stdout",
     "output_type": "stream",
     "text": [
      "Classification Report for Validation Data\n",
      "              precision    recall  f1-score   support\n",
      "\n",
      "           0       0.88      1.00      0.94      3599\n",
      "           1       0.00      0.00      0.00       470\n",
      "\n",
      "    accuracy                           0.88      4069\n",
      "   macro avg       0.44      0.50      0.47      4069\n",
      "weighted avg       0.78      0.88      0.83      4069\n",
      "\n"
     ]
    },
    {
     "name": "stderr",
     "output_type": "stream",
     "text": [
      "C:\\Users\\iakov\\AppData\\Local\\Packages\\PythonSoftwareFoundation.Python.3.11_qbz5n2kfra8p0\\LocalCache\\local-packages\\Python311\\site-packages\\sklearn\\metrics\\_classification.py:1531: UndefinedMetricWarning: Precision is ill-defined and being set to 0.0 in labels with no predicted samples. Use `zero_division` parameter to control this behavior.\n",
      "  _warn_prf(average, modifier, f\"{metric.capitalize()} is\", len(result))\n",
      "C:\\Users\\iakov\\AppData\\Local\\Packages\\PythonSoftwareFoundation.Python.3.11_qbz5n2kfra8p0\\LocalCache\\local-packages\\Python311\\site-packages\\sklearn\\metrics\\_classification.py:1531: UndefinedMetricWarning: Precision is ill-defined and being set to 0.0 in labels with no predicted samples. Use `zero_division` parameter to control this behavior.\n",
      "  _warn_prf(average, modifier, f\"{metric.capitalize()} is\", len(result))\n",
      "C:\\Users\\iakov\\AppData\\Local\\Packages\\PythonSoftwareFoundation.Python.3.11_qbz5n2kfra8p0\\LocalCache\\local-packages\\Python311\\site-packages\\sklearn\\metrics\\_classification.py:1531: UndefinedMetricWarning: Precision is ill-defined and being set to 0.0 in labels with no predicted samples. Use `zero_division` parameter to control this behavior.\n",
      "  _warn_prf(average, modifier, f\"{metric.capitalize()} is\", len(result))\n"
     ]
    }
   ],
   "source": [
    "#Validation Data Classification Report\n",
    "print(\"Classification Report for Validation Data\")\n",
    "print(classification_report(Y_valid, mlp2_Y_pred_valid))"
   ]
  },
  {
   "cell_type": "code",
   "execution_count": null,
   "metadata": {},
   "outputs": [
    {
     "data": {
      "text/plain": [
       "<Figure size 0.2x0.2 with 0 Axes>"
      ]
     },
     "metadata": {},
     "output_type": "display_data"
    },
    {
     "data": {
      "image/png": "[encoded data removed]",
      "text/plain": [
       "<Figure size 640x480 with 2 Axes>"
      ]
     },
     "metadata": {},
     "output_type": "display_data"
    }
   ],
   "source": [
    "#MLP2 Test Data Confusion Matrix\n",
    "mlp2_cm_test = ConfusionMatrixDisplay(confusion_matrix = confusion_matrix(Y_test, mlp2_Y_pred_test), display_labels = [0, 1])\n",
    "plt.figure(figsize = (0.002, 0.002))\n",
    "mlp2_cm_test.plot()\n",
    "plt.show()"
   ]
  },
  {
   "cell_type": "code",
   "execution_count": null,
   "metadata": {},
   "outputs": [
    {
     "data": {
      "text/plain": [
       "<Figure size 0.2x0.2 with 0 Axes>"
      ]
     },
     "metadata": {},
     "output_type": "display_data"
    },
    {
     "data": {
      "image/png": "[encoded data removed]",
      "text/plain": [
       "<Figure size 640x480 with 2 Axes>"
      ]
     },
     "metadata": {},
     "output_type": "display_data"
    }
   ],
   "source": [
    "#MLP2 Validation Data Confusion Matrix\n",
    "mlp2_cm_valid = ConfusionMatrixDisplay(confusion_matrix = confusion_matrix(Y_valid, mlp2_Y_pred_valid), display_labels = [0, 1])\n",
    "plt.figure(figsize = (0.002, 0.002))\n",
    "mlp2_cm_valid.plot()\n",
    "plt.show()"
   ]
  },
  {
   "cell_type": "markdown",
   "metadata": {},
   "source": [
    "MLP3 - Multi-Layer Perceptron (9 Hidden Layers)"
   ]
  },
  {
   "cell_type": "code",
   "execution_count": 43,
   "metadata": {},
   "outputs": [
    {
     "name": "stderr",
     "output_type": "stream",
     "text": [
      "C:\\Users\\iakov\\AppData\\Local\\Packages\\PythonSoftwareFoundation.Python.3.11_qbz5n2kfra8p0\\LocalCache\\local-packages\\Python311\\site-packages\\sklearn\\neural_network\\_multilayer_perceptron.py:690: ConvergenceWarning: Stochastic Optimizer: Maximum iterations (30) reached and the optimization hasn't converged yet.\n",
      "  warnings.warn(\n"
     ]
    }
   ],
   "source": [
    "#Define MLP\n",
    "mlp3 = MLPClassifier(hidden_layer_sizes = (16, 32, 64, 128, 512, 128, 64, 32, 16), activation = \"tanh\", solver = \"adam\", learning_rate = \"constant\", learning_rate_init = 0.001, max_iter = 30, tol = 0.0001, random_state = 81)\n",
    "#Fit MLP\n",
    "mlp3.fit(X_train, Y_train)\n",
    "#Test Predictions\n",
    "mlp3_Y_pred_test = mlp3.predict(X_test)\n",
    "#Validation Predictions\n",
    "mlp3_Y_pred_valid = mlp3.predict(X_valid)"
   ]
  },
  {
   "cell_type": "code",
   "execution_count": 44,
   "metadata": {},
   "outputs": [
    {
     "name": "stdout",
     "output_type": "stream",
     "text": [
      "Classification Report for Test Data\n",
      "              precision    recall  f1-score   support\n",
      "\n",
      "           0       0.91      0.96      0.94      3993\n",
      "           1       0.52      0.28      0.37       529\n",
      "\n",
      "    accuracy                           0.89      4522\n",
      "   macro avg       0.71      0.62      0.65      4522\n",
      "weighted avg       0.86      0.89      0.87      4522\n",
      "\n"
     ]
    }
   ],
   "source": [
    "#Test Data Classification Report\n",
    "print(\"Classification Report for Test Data\")\n",
    "print(classification_report(Y_test, mlp3_Y_pred_test))"
   ]
  },
  {
   "cell_type": "code",
   "execution_count": 45,
   "metadata": {},
   "outputs": [
    {
     "name": "stdout",
     "output_type": "stream",
     "text": [
      "Classification Report for Validation Data\n",
      "              precision    recall  f1-score   support\n",
      "\n",
      "           0       0.92      0.97      0.94      3599\n",
      "           1       0.58      0.32      0.41       470\n",
      "\n",
      "    accuracy                           0.89      4069\n",
      "   macro avg       0.75      0.65      0.68      4069\n",
      "weighted avg       0.88      0.89      0.88      4069\n",
      "\n"
     ]
    }
   ],
   "source": [
    "#Validation Data Classification Report\n",
    "print(\"Classification Report for Validation Data\")\n",
    "print(classification_report(Y_valid, mlp3_Y_pred_valid))"
   ]
  },
  {
   "cell_type": "code",
   "execution_count": null,
   "metadata": {},
   "outputs": [
    {
     "data": {
      "text/plain": [
       "<Figure size 0.2x0.2 with 0 Axes>"
      ]
     },
     "metadata": {},
     "output_type": "display_data"
    },
    {
     "data": {
      "image/png": "[encoded data removed]",
      "text/plain": [
       "<Figure size 640x480 with 2 Axes>"
      ]
     },
     "metadata": {},
     "output_type": "display_data"
    }
   ],
   "source": [
    "#MLP3 Test Data Confusion Matrix\n",
    "mlp3_cm_test = ConfusionMatrixDisplay(confusion_matrix = confusion_matrix(Y_test, mlp3_Y_pred_test), display_labels = [0, 1])\n",
    "plt.figure(figsize = (0.002, 0.002))\n",
    "mlp3_cm_test.plot()\n",
    "plt.show()"
   ]
  },
  {
   "cell_type": "code",
   "execution_count": null,
   "metadata": {},
   "outputs": [
    {
     "data": {
      "text/plain": [
       "<Figure size 0.2x0.2 with 0 Axes>"
      ]
     },
     "metadata": {},
     "output_type": "display_data"
    },
    {
     "data": {
      "image/png": "[encoded data removed]",
      "text/plain": [
       "<Figure size 640x480 with 2 Axes>"
      ]
     },
     "metadata": {},
     "output_type": "display_data"
    }
   ],
   "source": [
    "#MLP3 Validation Data Confusion Matrix\n",
    "mlp3_cm_valid = ConfusionMatrixDisplay(confusion_matrix = confusion_matrix(Y_valid, mlp3_Y_pred_valid), display_labels = [0, 1])\n",
    "plt.figure(figsize = (0.002, 0.002))\n",
    "mlp3_cm_valid.plot()\n",
    "plt.show()"
   ]
  },
  {
   "cell_type": "markdown",
   "metadata": {},
   "source": [
    "MLP4 - Multi-Layer Perceptron (19 Hidden Layers)"
   ]
  },
  {
   "cell_type": "code",
   "execution_count": 48,
   "metadata": {},
   "outputs": [],
   "source": [
    "#Define MLP\n",
    "mlp4 = MLPClassifier(hidden_layer_sizes = (16, 32, 64, 128, 256, 512, 1024, 512, 256, 128, 64, 32, 16), activation = \"tanh\", solver = \"adam\", learning_rate = \"constant\", learning_rate_init = 0.001, max_iter = 30, tol = 0.0001, random_state = 81)\n",
    "#Fit MLP\n",
    "mlp4.fit(X_train, Y_train)\n",
    "#Test Predictions\n",
    "mlp4_Y_pred_test = mlp4.predict(X_test)\n",
    "#Validation Predictions\n",
    "mlp4_Y_pred_valid = mlp4.predict(X_valid)"
   ]
  },
  {
   "cell_type": "code",
   "execution_count": 49,
   "metadata": {},
   "outputs": [
    {
     "name": "stdout",
     "output_type": "stream",
     "text": [
      "Classification Report for Test Data\n",
      "              precision    recall  f1-score   support\n",
      "\n",
      "           0       0.90      0.99      0.94      3993\n",
      "           1       0.57      0.14      0.23       529\n",
      "\n",
      "    accuracy                           0.89      4522\n",
      "   macro avg       0.73      0.56      0.58      4522\n",
      "weighted avg       0.86      0.89      0.86      4522\n",
      "\n"
     ]
    }
   ],
   "source": [
    "#Test Data Classification Report\n",
    "print(\"Classification Report for Test Data\")\n",
    "print(classification_report(Y_test, mlp4_Y_pred_test))"
   ]
  },
  {
   "cell_type": "code",
   "execution_count": 50,
   "metadata": {},
   "outputs": [
    {
     "name": "stdout",
     "output_type": "stream",
     "text": [
      "Classification Report for Validation Data\n",
      "              precision    recall  f1-score   support\n",
      "\n",
      "           0       0.90      0.99      0.94      3599\n",
      "           1       0.65      0.17      0.27       470\n",
      "\n",
      "    accuracy                           0.89      4069\n",
      "   macro avg       0.78      0.58      0.61      4069\n",
      "weighted avg       0.87      0.89      0.87      4069\n",
      "\n"
     ]
    }
   ],
   "source": [
    "#Validation Data Classification Report\n",
    "print(\"Classification Report for Validation Data\")\n",
    "print(classification_report(Y_valid, mlp4_Y_pred_valid))"
   ]
  },
  {
   "cell_type": "code",
   "execution_count": 51,
   "metadata": {},
   "outputs": [
    {
     "data": {
      "text/plain": [
       "<Figure size 0.2x0.2 with 0 Axes>"
      ]
     },
     "metadata": {},
     "output_type": "display_data"
    },
    {
     "data": {
      "image/png": "[encoded data removed]",
      "text/plain": [
       "<Figure size 640x480 with 2 Axes>"
      ]
     },
     "metadata": {},
     "output_type": "display_data"
    }
   ],
   "source": [
    "#MLP4 Test Data Confusion Matrix\n",
    "mlp4_cm_test = ConfusionMatrixDisplay(confusion_matrix = confusion_matrix(Y_test, mlp4_Y_pred_test), display_labels = [0, 1])\n",
    "plt.figure(figsize = (0.002, 0.002))\n",
    "mlp4_cm_test.plot()\n",
    "plt.show()"
   ]
  },
  {
   "cell_type": "code",
   "execution_count": 52,
   "metadata": {},
   "outputs": [
    {
     "data": {
      "text/plain": [
       "<Figure size 0.2x0.2 with 0 Axes>"
      ]
     },
     "metadata": {},
     "output_type": "display_data"
    },
    {
     "data": {
      "image/png": "[encoded data removed]",
      "text/plain": [
       "<Figure size 640x480 with 2 Axes>"
      ]
     },
     "metadata": {},
     "output_type": "display_data"
    }
   ],
   "source": [
    "#MLP4 Test Data Confusion Matrix\n",
    "mlp4_cm_valid = ConfusionMatrixDisplay(confusion_matrix = confusion_matrix(Y_valid, mlp4_Y_pred_valid), display_labels = [0, 1])\n",
    "plt.figure(figsize = (0.002, 0.002))\n",
    "mlp4_cm_valid.plot()\n",
    "plt.show()"
   ]
  },
  {
   "cell_type": "markdown",
   "metadata": {},
   "source": [
    "# SMOTENC Sampling"
   ]
  },
  {
   "cell_type": "code",
   "execution_count": 53,
   "metadata": {},
   "outputs": [
    {
     "data": {
      "text/plain": [
       "((64660, 7),\n",
       " (64660,),\n",
       " y\n",
       " 0    32330\n",
       " 1    32330\n",
       " Name: count, dtype: int64)"
      ]
     },
     "execution_count": 53,
     "metadata": {},
     "output_type": "execute_result"
    }
   ],
   "source": [
    "sm = SMOTENC(categorical_features = list(range(3, X_train.shape[1])), sampling_strategy = \"minority\", random_state = 2, k_neighbors = 5)\n",
    "X_train_sm, Y_train_sm = sm.fit_resample(X_train, Y_train)\n",
    "X_train_sm.shape, Y_train_sm.shape, Y_train_sm.value_counts()"
   ]
  },
  {
   "cell_type": "markdown",
   "metadata": {},
   "source": [
    "# Classification with SMOTENC "
   ]
  },
  {
   "cell_type": "markdown",
   "metadata": {},
   "source": [
    "MLP1 - One-Layer Perceptron (1 Neuron) - Smote"
   ]
  },
  {
   "cell_type": "code",
   "execution_count": 54,
   "metadata": {},
   "outputs": [
    {
     "name": "stderr",
     "output_type": "stream",
     "text": [
      "C:\\Users\\iakov\\AppData\\Local\\Packages\\PythonSoftwareFoundation.Python.3.11_qbz5n2kfra8p0\\LocalCache\\local-packages\\Python311\\site-packages\\sklearn\\neural_network\\_multilayer_perceptron.py:690: ConvergenceWarning: Stochastic Optimizer: Maximum iterations (30) reached and the optimization hasn't converged yet.\n",
      "  warnings.warn(\n"
     ]
    },
    {
     "data": {
      "text/plain": [
       "[array([[ 0.02598372],\n",
       "        [-0.02987367],\n",
       "        [-0.7887934 ],\n",
       "        [ 0.29066773],\n",
       "        [ 0.95971284],\n",
       "        [-0.62800035],\n",
       "        [-0.12368707]]),\n",
       " array([[-2.59488531]])]"
      ]
     },
     "execution_count": 54,
     "metadata": {},
     "output_type": "execute_result"
    }
   ],
   "source": [
    "#Define MLP\n",
    "mlp1_sm = MLPClassifier(hidden_layer_sizes = (1, ), activation = \"tanh\", solver = \"adam\", learning_rate = \"constant\", learning_rate_init = 0.001, max_iter = 30, tol = 0.0001, random_state = 81)\n",
    "#Fit MLP\n",
    "mlp1_sm.fit(X_train_sm, Y_train_sm)\n",
    "#Test Predictions\n",
    "mlp1_sm_Y_pred_test = mlp1_sm.predict(X_test)\n",
    "#Validation Predictions\n",
    "mlp1_sm_Y_pred_valid = mlp1_sm.predict(X_valid)\n",
    "#Weights\n",
    "mlp1_sm.coefs_"
   ]
  },
  {
   "cell_type": "code",
   "execution_count": 55,
   "metadata": {},
   "outputs": [
    {
     "name": "stdout",
     "output_type": "stream",
     "text": [
      "Classification Report for Test Data\n",
      "              precision    recall  f1-score   support\n",
      "\n",
      "           0       0.96      0.76      0.85      3993\n",
      "           1       0.30      0.78      0.44       529\n",
      "\n",
      "    accuracy                           0.76      4522\n",
      "   macro avg       0.63      0.77      0.64      4522\n",
      "weighted avg       0.89      0.76      0.80      4522\n",
      "\n"
     ]
    }
   ],
   "source": [
    "#Test Data Classification Report\n",
    "print(\"Classification Report for Test Data\")\n",
    "print(classification_report(Y_test, mlp1_sm_Y_pred_test))"
   ]
  },
  {
   "cell_type": "code",
   "execution_count": 56,
   "metadata": {},
   "outputs": [
    {
     "name": "stdout",
     "output_type": "stream",
     "text": [
      "Classification Report for Validation Data\n",
      "              precision    recall  f1-score   support\n",
      "\n",
      "           0       0.96      0.76      0.85      3599\n",
      "           1       0.30      0.78      0.44       470\n",
      "\n",
      "    accuracy                           0.77      4069\n",
      "   macro avg       0.63      0.77      0.64      4069\n",
      "weighted avg       0.89      0.77      0.80      4069\n",
      "\n"
     ]
    }
   ],
   "source": [
    "#Validation Data Classification Report\n",
    "print(\"Classification Report for Validation Data\")\n",
    "print(classification_report(Y_valid, mlp1_sm_Y_pred_valid))"
   ]
  },
  {
   "cell_type": "code",
   "execution_count": 57,
   "metadata": {},
   "outputs": [
    {
     "data": {
      "text/plain": [
       "<Figure size 0.2x0.2 with 0 Axes>"
      ]
     },
     "metadata": {},
     "output_type": "display_data"
    },
    {
     "data": {
      "image/png": "[encoded data removed]",
      "text/plain": [
       "<Figure size 640x480 with 2 Axes>"
      ]
     },
     "metadata": {},
     "output_type": "display_data"
    }
   ],
   "source": [
    "#MLP1 Test Data Confusion Matrix\n",
    "mlp1_sm_cm_test = ConfusionMatrixDisplay(confusion_matrix = confusion_matrix(Y_test, mlp1_sm_Y_pred_test), display_labels = [0, 1])\n",
    "plt.figure(figsize = (0.002, 0.002))\n",
    "mlp1_sm_cm_test.plot()\n",
    "plt.show()"
   ]
  },
  {
   "cell_type": "code",
   "execution_count": null,
   "metadata": {},
   "outputs": [
    {
     "data": {
      "text/plain": [
       "<Figure size 0.2x0.2 with 0 Axes>"
      ]
     },
     "metadata": {},
     "output_type": "display_data"
    },
    {
     "data": {
      "image/png": "[encoded data removed]",
      "text/plain": [
       "<Figure size 640x480 with 2 Axes>"
      ]
     },
     "metadata": {},
     "output_type": "display_data"
    }
   ],
   "source": [
    "#MLP1 Validation Data Confusion Matrix\n",
    "mlp1_sm_cm_valid = ConfusionMatrixDisplay(confusion_matrix = confusion_matrix(Y_valid, mlp1_sm_Y_pred_valid), display_labels = [0, 1])\n",
    "plt.figure(figsize = (0.002, 0.002))\n",
    "mlp1_sm_cm_valid.plot()\n",
    "plt.show()"
   ]
  },
  {
   "cell_type": "markdown",
   "metadata": {},
   "source": [
    "MLP2 - One-Layer Perceptron (2 Hidden Layers, 1 Neuron per Layer) - Smote"
   ]
  },
  {
   "cell_type": "code",
   "execution_count": 59,
   "metadata": {},
   "outputs": [
    {
     "data": {
      "text/plain": [
       "[array([[-0.04660895],\n",
       "        [ 0.05857669],\n",
       "        [ 1.09559563],\n",
       "        [ 1.56877431],\n",
       "        [ 0.33832211],\n",
       "        [-0.06850688],\n",
       "        [-0.89760273]]),\n",
       " array([[8.28290656e-63, 1.40033314e+00]]),\n",
       " array([[-4.05768700e-94],\n",
       "        [ 7.13556276e-01]])]"
      ]
     },
     "execution_count": 59,
     "metadata": {},
     "output_type": "execute_result"
    }
   ],
   "source": [
    "#Define MLP\n",
    "mlp2_sm = MLPClassifier(hidden_layer_sizes = (1,2), activation = \"relu\", solver = \"adam\", learning_rate = \"constant\", learning_rate_init = 0.001, max_iter = 30, tol = 0.0001, random_state = 81)\n",
    "#Fit MLP\n",
    "mlp2_sm.fit(X_train_sm, Y_train_sm)\n",
    "#Test Predictions\n",
    "mlp2_sm_Y_pred_test = mlp2_sm.predict(X_test)\n",
    "#Validation Predictions\n",
    "mlp2_sm_Y_pred_valid = mlp2_sm.predict(X_valid)\n",
    "#Weights\n",
    "mlp2_sm.coefs_"
   ]
  },
  {
   "cell_type": "code",
   "execution_count": 60,
   "metadata": {},
   "outputs": [
    {
     "data": {
      "text/plain": [
       "[array([0.58586662]), array([-0.28535579, -0.00326994]), array([-2.22111862])]"
      ]
     },
     "execution_count": 60,
     "metadata": {},
     "output_type": "execute_result"
    }
   ],
   "source": [
    "#Bias\n",
    "mlp2_sm.intercepts_"
   ]
  },
  {
   "cell_type": "code",
   "execution_count": 61,
   "metadata": {},
   "outputs": [
    {
     "data": {
      "text/plain": [
       "4"
      ]
     },
     "execution_count": 61,
     "metadata": {},
     "output_type": "execute_result"
    }
   ],
   "source": [
    "#Number of Layers\n",
    "mlp2_sm.n_layers_"
   ]
  },
  {
   "cell_type": "code",
   "execution_count": 62,
   "metadata": {},
   "outputs": [
    {
     "name": "stdout",
     "output_type": "stream",
     "text": [
      "Classification Report for Test Data\n",
      "              precision    recall  f1-score   support\n",
      "\n",
      "           0       0.96      0.80      0.87      3993\n",
      "           1       0.33      0.74      0.46       529\n",
      "\n",
      "    accuracy                           0.79      4522\n",
      "   macro avg       0.64      0.77      0.66      4522\n",
      "weighted avg       0.89      0.79      0.82      4522\n",
      "\n"
     ]
    }
   ],
   "source": [
    "#Test Data Classification Report\n",
    "print(\"Classification Report for Test Data\")\n",
    "print(classification_report(Y_test, mlp2_sm_Y_pred_test))"
   ]
  },
  {
   "cell_type": "code",
   "execution_count": 63,
   "metadata": {},
   "outputs": [
    {
     "name": "stdout",
     "output_type": "stream",
     "text": [
      "Classification Report for Validation Data\n",
      "              precision    recall  f1-score   support\n",
      "\n",
      "           0       0.96      0.80      0.87      3599\n",
      "           1       0.33      0.74      0.45       470\n",
      "\n",
      "    accuracy                           0.79      4069\n",
      "   macro avg       0.64      0.77      0.66      4069\n",
      "weighted avg       0.89      0.79      0.82      4069\n",
      "\n"
     ]
    }
   ],
   "source": [
    "#Validation Data Classification Report\n",
    "print(\"Classification Report for Validation Data\")\n",
    "print(classification_report(Y_valid, mlp2_sm_Y_pred_valid))"
   ]
  },
  {
   "cell_type": "code",
   "execution_count": 64,
   "metadata": {},
   "outputs": [
    {
     "data": {
      "text/plain": [
       "<Figure size 0.2x0.2 with 0 Axes>"
      ]
     },
     "metadata": {},
     "output_type": "display_data"
    },
    {
     "data": {
      "image/png": "[encoded data removed]",
      "text/plain": [
       "<Figure size 640x480 with 2 Axes>"
      ]
     },
     "metadata": {},
     "output_type": "display_data"
    }
   ],
   "source": [
    "#MLP2 Test Data Confusion Matrix\n",
    "mlp2_sm_cm_test = ConfusionMatrixDisplay(confusion_matrix = confusion_matrix(Y_test, mlp2_sm_Y_pred_test), display_labels = [0, 1])\n",
    "plt.figure(figsize = (0.002, 0.002))\n",
    "mlp2_sm_cm_test.plot()\n",
    "plt.show()"
   ]
  },
  {
   "cell_type": "code",
   "execution_count": 65,
   "metadata": {},
   "outputs": [
    {
     "data": {
      "text/plain": [
       "<Figure size 0.2x0.2 with 0 Axes>"
      ]
     },
     "metadata": {},
     "output_type": "display_data"
    },
    {
     "data": {
      "image/png": "[encoded data removed]",
      "text/plain": [
       "<Figure size 640x480 with 2 Axes>"
      ]
     },
     "metadata": {},
     "output_type": "display_data"
    }
   ],
   "source": [
    "#MLP2 Validation Data Confusion Matrix\n",
    "mlp2_sm_cm_valid = ConfusionMatrixDisplay(confusion_matrix = confusion_matrix(Y_valid, mlp2_sm_Y_pred_valid), display_labels = [0, 1])\n",
    "plt.figure(figsize = (0.002, 0.002))\n",
    "mlp2_sm_cm_valid.plot()\n",
    "plt.show()"
   ]
  },
  {
   "cell_type": "markdown",
   "metadata": {},
   "source": [
    "MLP3 - Multi-Layer Perceptron (9 Hidden Layers) - Smote"
   ]
  },
  {
   "cell_type": "code",
   "execution_count": 66,
   "metadata": {},
   "outputs": [
    {
     "name": "stderr",
     "output_type": "stream",
     "text": [
      "C:\\Users\\iakov\\AppData\\Local\\Packages\\PythonSoftwareFoundation.Python.3.11_qbz5n2kfra8p0\\LocalCache\\local-packages\\Python311\\site-packages\\sklearn\\neural_network\\_multilayer_perceptron.py:690: ConvergenceWarning: Stochastic Optimizer: Maximum iterations (30) reached and the optimization hasn't converged yet.\n",
      "  warnings.warn(\n"
     ]
    }
   ],
   "source": [
    "#Define MLP\n",
    "mlp3_sm = MLPClassifier(hidden_layer_sizes = (16, 32, 64, 128, 512, 128, 64, 32, 16), activation = \"tanh\", solver = \"adam\", learning_rate = \"constant\", learning_rate_init = 0.001, max_iter = 30, tol = 0.0001, random_state = 81)\n",
    "#Fit MLP\n",
    "mlp3_sm.fit(X_train_sm, Y_train_sm)\n",
    "#Test Predictions\n",
    "mlp3_sm_Y_pred_test = mlp3_sm.predict(X_test)\n",
    "#Validation Predictions\n",
    "mlp3_sm_Y_pred_valid = mlp3_sm.predict(X_valid)"
   ]
  },
  {
   "cell_type": "code",
   "execution_count": 67,
   "metadata": {},
   "outputs": [
    {
     "name": "stdout",
     "output_type": "stream",
     "text": [
      "Classification Report for Test Data\n",
      "              precision    recall  f1-score   support\n",
      "\n",
      "           0       0.96      0.78      0.86      3993\n",
      "           1       0.31      0.76      0.44       529\n",
      "\n",
      "    accuracy                           0.77      4522\n",
      "   macro avg       0.64      0.77      0.65      4522\n",
      "weighted avg       0.88      0.77      0.81      4522\n",
      "\n"
     ]
    }
   ],
   "source": [
    "#Test Data Classification Report\n",
    "print(\"Classification Report for Test Data\")\n",
    "print(classification_report(Y_test, mlp3_sm_Y_pred_test))"
   ]
  },
  {
   "cell_type": "code",
   "execution_count": 68,
   "metadata": {},
   "outputs": [
    {
     "name": "stdout",
     "output_type": "stream",
     "text": [
      "Classification Report for Validation Data\n",
      "              precision    recall  f1-score   support\n",
      "\n",
      "           0       0.96      0.78      0.86      3599\n",
      "           1       0.32      0.77      0.45       470\n",
      "\n",
      "    accuracy                           0.78      4069\n",
      "   macro avg       0.64      0.78      0.66      4069\n",
      "weighted avg       0.89      0.78      0.82      4069\n",
      "\n"
     ]
    }
   ],
   "source": [
    "#Validation Data Classification Report\n",
    "print(\"Classification Report for Validation Data\")\n",
    "print(classification_report(Y_valid, mlp3_sm_Y_pred_valid))"
   ]
  },
  {
   "cell_type": "code",
   "execution_count": 69,
   "metadata": {},
   "outputs": [
    {
     "data": {
      "text/plain": [
       "<Figure size 0.2x0.2 with 0 Axes>"
      ]
     },
     "metadata": {},
     "output_type": "display_data"
    },
    {
     "data": {
      "image/png": "[encoded data removed]",
      "text/plain": [
       "<Figure size 640x480 with 2 Axes>"
      ]
     },
     "metadata": {},
     "output_type": "display_data"
    }
   ],
   "source": [
    "#MLP3 Test Data Confusion Matrix\n",
    "mlp3_sm_cm_test = ConfusionMatrixDisplay(confusion_matrix = confusion_matrix(Y_test, mlp3_sm_Y_pred_test), display_labels = [0, 1])\n",
    "plt.figure(figsize = (0.002, 0.002))\n",
    "mlp3_sm_cm_test.plot()\n",
    "plt.show()"
   ]
  },
  {
   "cell_type": "code",
   "execution_count": 70,
   "metadata": {},
   "outputs": [
    {
     "data": {
      "text/plain": [
       "<Figure size 0.2x0.2 with 0 Axes>"
      ]
     },
     "metadata": {},
     "output_type": "display_data"
    },
    {
     "data": {
      "image/png": "[encoded data removed]",
      "text/plain": [
       "<Figure size 640x480 with 2 Axes>"
      ]
     },
     "metadata": {},
     "output_type": "display_data"
    }
   ],
   "source": [
    "#MLP3 Validation Data Confusion Matrix\n",
    "mlp3_sm_cm_valid = ConfusionMatrixDisplay(confusion_matrix = confusion_matrix(Y_valid, mlp3_sm_Y_pred_valid), display_labels = [0, 1])\n",
    "plt.figure(figsize = (0.002, 0.002))\n",
    "mlp3_sm_cm_valid.plot()\n",
    "plt.show()"
   ]
  },
  {
   "cell_type": "markdown",
   "metadata": {},
   "source": [
    "MLP4 - Multi-Layer Perceptron (19 Hidden Layers) - Smote"
   ]
  },
  {
   "cell_type": "code",
   "execution_count": 71,
   "metadata": {},
   "outputs": [],
   "source": [
    "#Define MLP\n",
    "mlp4_sm = MLPClassifier(hidden_layer_sizes = (16, 32, 64, 128, 256, 512, 1024, 512, 256, 128, 64, 32, 16), activation = \"tanh\", solver = \"adam\", learning_rate = \"constant\", learning_rate_init = 0.001, max_iter = 30, tol = 0.0001, random_state = 81)\n",
    "#Fit MLP\n",
    "mlp4_sm.fit(X_train_sm, Y_train_sm)\n",
    "#Test Predictions\n",
    "mlp4_sm_Y_pred_test = mlp4_sm.predict(X_test)\n",
    "#Validation Predictions\n",
    "mlp4_sm_Y_pred_valid = mlp4_sm.predict(X_valid)"
   ]
  },
  {
   "cell_type": "code",
   "execution_count": 72,
   "metadata": {},
   "outputs": [
    {
     "name": "stdout",
     "output_type": "stream",
     "text": [
      "Classification Report for Test Data\n",
      "              precision    recall  f1-score   support\n",
      "\n",
      "           0       0.97      0.71      0.82      3993\n",
      "           1       0.27      0.84      0.41       529\n",
      "\n",
      "    accuracy                           0.72      4522\n",
      "   macro avg       0.62      0.77      0.61      4522\n",
      "weighted avg       0.89      0.72      0.77      4522\n",
      "\n"
     ]
    }
   ],
   "source": [
    "#Test Data Classification Report\n",
    "print(\"Classification Report for Test Data\")\n",
    "print(classification_report(Y_test, mlp4_sm_Y_pred_test))"
   ]
  },
  {
   "cell_type": "code",
   "execution_count": 73,
   "metadata": {},
   "outputs": [
    {
     "name": "stdout",
     "output_type": "stream",
     "text": [
      "Classification Report for Validation Data\n",
      "              precision    recall  f1-score   support\n",
      "\n",
      "           0       0.97      0.70      0.82      3599\n",
      "           1       0.27      0.85      0.41       470\n",
      "\n",
      "    accuracy                           0.72      4069\n",
      "   macro avg       0.62      0.78      0.61      4069\n",
      "weighted avg       0.89      0.72      0.77      4069\n",
      "\n"
     ]
    }
   ],
   "source": [
    "#Validation Data Classification Report\n",
    "print(\"Classification Report for Validation Data\")\n",
    "print(classification_report(Y_valid, mlp4_sm_Y_pred_valid))"
   ]
  },
  {
   "cell_type": "code",
   "execution_count": 74,
   "metadata": {},
   "outputs": [
    {
     "data": {
      "text/plain": [
       "<Figure size 0.2x0.2 with 0 Axes>"
      ]
     },
     "metadata": {},
     "output_type": "display_data"
    },
    {
     "data": {
      "image/png": "[encoded data removed]",
      "text/plain": [
       "<Figure size 640x480 with 2 Axes>"
      ]
     },
     "metadata": {},
     "output_type": "display_data"
    }
   ],
   "source": [
    "#MLP4 Test Data Confusion Matrix\n",
    "mlp4_sm_cm_test = ConfusionMatrixDisplay(confusion_matrix = confusion_matrix(Y_test, mlp4_sm_Y_pred_test), display_labels = [0, 1])\n",
    "plt.figure(figsize = (0.002, 0.002))\n",
    "mlp4_sm_cm_test.plot()\n",
    "plt.show()"
   ]
  },
  {
   "cell_type": "code",
   "execution_count": 75,
   "metadata": {},
   "outputs": [
    {
     "data": {
      "text/plain": [
       "<Figure size 0.2x0.2 with 0 Axes>"
      ]
     },
     "metadata": {},
     "output_type": "display_data"
    },
    {
     "data": {
      "image/png": "[encoded data removed]",
      "text/plain": [
       "<Figure size 640x480 with 2 Axes>"
      ]
     },
     "metadata": {},
     "output_type": "display_data"
    }
   ],
   "source": [
    "#MLP4 Test Data Confusion Matrix\n",
    "mlp4_sm_cm_valid = ConfusionMatrixDisplay(confusion_matrix = confusion_matrix(Y_valid, mlp4_sm_Y_pred_valid), display_labels = [0, 1])\n",
    "plt.figure(figsize = (0.002, 0.002))\n",
    "mlp4_sm_cm_valid.plot()\n",
    "plt.show()"
   ]
  }
 ],
 "metadata": {
  "kernelspec": {
   "display_name": "Python 3",
   "language": "python",
   "name": "python3"
  },
  "language_info": {
   "codemirror_mode": {
    "name": "ipython",
    "version": 3
   },
   "file_extension": ".py",
   "mimetype": "text/x-python",
   "name": "python",
   "nbconvert_exporter": "python",
   "pygments_lexer": "ipython3",
   "version": "3.11.9"
  }
 },
 "nbformat": 4,
 "nbformat_minor": 2
}
